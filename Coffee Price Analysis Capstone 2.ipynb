{
 "cells": [
  {
   "cell_type": "code",
   "execution_count": 1,
   "id": "53525b62",
   "metadata": {},
   "outputs": [],
   "source": [
    "import pandas as pd"
   ]
  },
  {
   "cell_type": "code",
   "execution_count": 2,
   "id": "b4d5052b",
   "metadata": {},
   "outputs": [],
   "source": [
    "#data wrangling start\n",
    "df = pd.read_csv('coffee.csv')"
   ]
  },
  {
   "cell_type": "code",
   "execution_count": 7,
   "id": "14e47996",
   "metadata": {},
   "outputs": [
    {
     "name": "stdout",
     "output_type": "stream",
     "text": [
      "<class 'pandas.core.frame.DataFrame'>\n",
      "RangeIndex: 5746 entries, 0 to 5745\n",
      "Data columns (total 7 columns):\n",
      " #   Column    Non-Null Count  Dtype  \n",
      "---  ------    --------------  -----  \n",
      " 0   Date      5746 non-null   object \n",
      " 1   Open      5746 non-null   float64\n",
      " 2   High      5746 non-null   float64\n",
      " 3   Low       5746 non-null   float64\n",
      " 4   Close     5746 non-null   float64\n",
      " 5   Volume    5746 non-null   int64  \n",
      " 6   Currency  5746 non-null   object \n",
      "dtypes: float64(4), int64(1), object(2)\n",
      "memory usage: 314.4+ KB\n"
     ]
    }
   ],
   "source": [
    "df.info()"
   ]
  },
  {
   "cell_type": "code",
   "execution_count": 15,
   "id": "18557cc3",
   "metadata": {},
   "outputs": [
    {
     "data": {
      "text/html": [
       "<div>\n",
       "<style scoped>\n",
       "    .dataframe tbody tr th:only-of-type {\n",
       "        vertical-align: middle;\n",
       "    }\n",
       "\n",
       "    .dataframe tbody tr th {\n",
       "        vertical-align: top;\n",
       "    }\n",
       "\n",
       "    .dataframe thead th {\n",
       "        text-align: right;\n",
       "    }\n",
       "</style>\n",
       "<table border=\"1\" class=\"dataframe\">\n",
       "  <thead>\n",
       "    <tr style=\"text-align: right;\">\n",
       "      <th></th>\n",
       "      <th>Open</th>\n",
       "      <th>High</th>\n",
       "      <th>Low</th>\n",
       "      <th>Close</th>\n",
       "      <th>Volume</th>\n",
       "    </tr>\n",
       "  </thead>\n",
       "  <tbody>\n",
       "    <tr>\n",
       "      <th>count</th>\n",
       "      <td>5746.000000</td>\n",
       "      <td>5746.000000</td>\n",
       "      <td>5746.000000</td>\n",
       "      <td>5746.000000</td>\n",
       "      <td>5746.000000</td>\n",
       "    </tr>\n",
       "    <tr>\n",
       "      <th>mean</th>\n",
       "      <td>127.267635</td>\n",
       "      <td>128.847034</td>\n",
       "      <td>125.784669</td>\n",
       "      <td>127.215567</td>\n",
       "      <td>8807.178907</td>\n",
       "    </tr>\n",
       "    <tr>\n",
       "      <th>std</th>\n",
       "      <td>50.569425</td>\n",
       "      <td>51.164948</td>\n",
       "      <td>49.851487</td>\n",
       "      <td>50.506519</td>\n",
       "      <td>9612.789034</td>\n",
       "    </tr>\n",
       "    <tr>\n",
       "      <th>min</th>\n",
       "      <td>41.500000</td>\n",
       "      <td>42.000000</td>\n",
       "      <td>41.500000</td>\n",
       "      <td>41.500000</td>\n",
       "      <td>0.000000</td>\n",
       "    </tr>\n",
       "    <tr>\n",
       "      <th>25%</th>\n",
       "      <td>98.800000</td>\n",
       "      <td>100.112500</td>\n",
       "      <td>97.862500</td>\n",
       "      <td>98.650000</td>\n",
       "      <td>61.000000</td>\n",
       "    </tr>\n",
       "    <tr>\n",
       "      <th>50%</th>\n",
       "      <td>120.400000</td>\n",
       "      <td>121.600000</td>\n",
       "      <td>118.950000</td>\n",
       "      <td>120.250000</td>\n",
       "      <td>7008.000000</td>\n",
       "    </tr>\n",
       "    <tr>\n",
       "      <th>75%</th>\n",
       "      <td>144.800000</td>\n",
       "      <td>146.000000</td>\n",
       "      <td>143.000000</td>\n",
       "      <td>144.337500</td>\n",
       "      <td>14497.750000</td>\n",
       "    </tr>\n",
       "    <tr>\n",
       "      <th>max</th>\n",
       "      <td>305.300000</td>\n",
       "      <td>306.250000</td>\n",
       "      <td>304.000000</td>\n",
       "      <td>304.900000</td>\n",
       "      <td>62045.000000</td>\n",
       "    </tr>\n",
       "  </tbody>\n",
       "</table>\n",
       "</div>"
      ],
      "text/plain": [
       "              Open         High          Low        Close        Volume\n",
       "count  5746.000000  5746.000000  5746.000000  5746.000000   5746.000000\n",
       "mean    127.267635   128.847034   125.784669   127.215567   8807.178907\n",
       "std      50.569425    51.164948    49.851487    50.506519   9612.789034\n",
       "min      41.500000    42.000000    41.500000    41.500000      0.000000\n",
       "25%      98.800000   100.112500    97.862500    98.650000     61.000000\n",
       "50%     120.400000   121.600000   118.950000   120.250000   7008.000000\n",
       "75%     144.800000   146.000000   143.000000   144.337500  14497.750000\n",
       "max     305.300000   306.250000   304.000000   304.900000  62045.000000"
      ]
     },
     "execution_count": 15,
     "metadata": {},
     "output_type": "execute_result"
    }
   ],
   "source": [
    "df.describe()"
   ]
  },
  {
   "cell_type": "code",
   "execution_count": 11,
   "id": "e62b647f",
   "metadata": {},
   "outputs": [
    {
     "name": "stdout",
     "output_type": "stream",
     "text": [
      "Date        datetime64[ns]\n",
      "Open               float64\n",
      "High               float64\n",
      "Low                float64\n",
      "Close              float64\n",
      "Volume               int64\n",
      "Currency            object\n",
      "dtype: object\n"
     ]
    }
   ],
   "source": [
    "df['Date'] = pd.to_datetime(df['Date'])\n",
    "print(df.dtypes)"
   ]
  },
  {
   "cell_type": "code",
   "execution_count": 24,
   "id": "ca57f471",
   "metadata": {},
   "outputs": [
    {
     "name": "stdout",
     "output_type": "stream",
     "text": [
      "Date        100.000000\n",
      "Open         43.247477\n",
      "High         44.796380\n",
      "Low          45.057431\n",
      "Close        47.024017\n",
      "Volume       64.601462\n",
      "Currency      0.017403\n",
      "dtype: float64\n"
     ]
    }
   ],
   "source": [
    "unique_counts = df.nunique()\n",
    "unique_percents = (unique_counts / len(df)) * 100\n",
    "print(unique_percents)"
   ]
  },
  {
   "cell_type": "code",
   "execution_count": 19,
   "id": "aa880b0d",
   "metadata": {},
   "outputs": [
    {
     "name": "stdout",
     "output_type": "stream",
     "text": [
      "      Open    High    Low  Close  Volume\n",
      "min   41.5   42.00   41.5   41.5       0\n",
      "max  305.3  306.25  304.0  304.9   62045\n"
     ]
    }
   ],
   "source": [
    "ranges = df.select_dtypes(include=['number']).agg(['min', 'max'])\n",
    "print(ranges)"
   ]
  },
  {
   "cell_type": "code",
   "execution_count": 26,
   "id": "1278ea3d",
   "metadata": {},
   "outputs": [
    {
     "name": "stdout",
     "output_type": "stream",
     "text": [
      "Date        0\n",
      "Open        0\n",
      "High        0\n",
      "Low         0\n",
      "Close       0\n",
      "Volume      0\n",
      "Currency    0\n",
      "dtype: int64\n"
     ]
    }
   ],
   "source": [
    "missing_values = df.isnull().sum()\n",
    "\n",
    "print(missing_values)"
   ]
  },
  {
   "cell_type": "code",
   "execution_count": 1,
   "id": "16f371b7",
   "metadata": {},
   "outputs": [],
   "source": [
    "# data wrangling end"
   ]
  },
  {
   "cell_type": "code",
   "execution_count": null,
   "id": "fba1f787",
   "metadata": {},
   "outputs": [],
   "source": []
  }
 ],
 "metadata": {
  "kernelspec": {
   "display_name": "Python 3 (ipykernel)",
   "language": "python",
   "name": "python3"
  },
  "language_info": {
   "codemirror_mode": {
    "name": "ipython",
    "version": 3
   },
   "file_extension": ".py",
   "mimetype": "text/x-python",
   "name": "python",
   "nbconvert_exporter": "python",
   "pygments_lexer": "ipython3",
   "version": "3.10.9"
  }
 },
 "nbformat": 4,
 "nbformat_minor": 5
}
